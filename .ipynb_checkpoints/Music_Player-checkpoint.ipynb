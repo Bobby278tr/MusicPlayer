{
 "cells": [
  {
   "cell_type": "code",
   "execution_count": 2,
   "metadata": {},
   "outputs": [
    {
     "name": "stdout",
     "output_type": "stream",
     "text": [
      "Amrinder Gill-tu juda ho- new song 2013 HD Official Video (1).mp4\n"
     ]
    },
    {
     "name": "stderr",
     "output_type": "stream",
     "text": [
      "Exception in Tkinter callback\n",
      "Traceback (most recent call last):\n",
      "  File \"C:\\Users\\NARENDRA NATH\\anaconda3\\lib\\tkinter\\__init__.py\", line 1883, in __call__\n",
      "    return self.func(*args)\n",
      "  File \"<ipython-input-2-2dd5af27ede4>\", line 10, in playsong\n",
      "    mixer.music.load(currentsong)\n",
      "pygame.error: ModPlug_Load failed\n"
     ]
    },
    {
     "name": "stdout",
     "output_type": "stream",
     "text": [
      "chupgayesarempp3.mp3\n"
     ]
    }
   ],
   "source": [
    "import pygame\n",
    "from pygame import mixer\n",
    "from tkinter import *\n",
    "import os\n",
    "\n",
    "def playsong():\n",
    "    currentsong=playlist.get(ACTIVE)\n",
    "    print(currentsong)\n",
    "    mixer.music.load(currentsong)\n",
    "    songstatus.set(\"Playing\")\n",
    "    mixer.music.play()\n",
    "\n",
    "def pausesong():\n",
    "    songstatus.set(\"Paused\")\n",
    "    mixer.music.pause()\n",
    "\n",
    "def stopsong():\n",
    "    songstatus.set(\"Stopped\")\n",
    "    mixer.music.stop()\n",
    "\n",
    "def resumesong():\n",
    "    songstatus.set(\"Resuming\")\n",
    "    mixer.music.unpause()    \n",
    "\n",
    "root=Tk()\n",
    "root.title('Music player')\n",
    "\n",
    "mixer.init()\n",
    "songstatus=StringVar()\n",
    "songstatus.set(\"choosing\")\n",
    "\n",
    "#playlist---------------\n",
    "\n",
    "playlist=Listbox(root,selectmode=SINGLE,bg=\"Grey\",fg=\"black\",font=('arial',15),width=60)\n",
    "playlist.grid(columnspan=5)\n",
    "\n",
    "os.chdir(r'F:\\Music')\n",
    "songs=os.listdir()\n",
    "for s in songs:\n",
    "    playlist.insert(END,s)\n",
    "    \n",
    "playbtn=Button(root,text=\"play\",command=playsong)\n",
    "playbtn.config(font=('arial',20),bg=\"black\",fg=\"white\",padx=8,pady=8)\n",
    "playbtn.grid(row=1,column=0)\n",
    "\n",
    "pausebtn=Button(root,text=\"Pause\",command=pausesong)\n",
    "pausebtn.config(font=('arial',20),bg=\"black\",fg=\"white\",padx=8,pady=8)\n",
    "pausebtn.grid(row=1,column=1)\n",
    "\n",
    "stopbtn=Button(root,text=\"Stop\",command=stopsong)\n",
    "stopbtn.config(font=('arial',20),bg=\"black\",fg=\"white\",padx=8,pady=8)\n",
    "stopbtn.grid(row=1,column=2)\n",
    "\n",
    "Resumebtn=Button(root,text=\"Resume\",command=resumesong)\n",
    "Resumebtn.config(font=('arial',20),bg=\"black\",fg=\"white\",padx=8,pady=8)\n",
    "Resumebtn.grid(row=1,column=3)\n",
    "\n",
    "mainloop()"
   ]
  },
  {
   "cell_type": "code",
   "execution_count": null,
   "metadata": {},
   "outputs": [],
   "source": []
  },
  {
   "cell_type": "code",
   "execution_count": null,
   "metadata": {},
   "outputs": [],
   "source": []
  }
 ],
 "metadata": {
  "kernelspec": {
   "display_name": "Python 3",
   "language": "python",
   "name": "python3"
  },
  "language_info": {
   "codemirror_mode": {
    "name": "ipython",
    "version": 3
   },
   "file_extension": ".py",
   "mimetype": "text/x-python",
   "name": "python",
   "nbconvert_exporter": "python",
   "pygments_lexer": "ipython3",
   "version": "3.8.5"
  }
 },
 "nbformat": 4,
 "nbformat_minor": 4
}
